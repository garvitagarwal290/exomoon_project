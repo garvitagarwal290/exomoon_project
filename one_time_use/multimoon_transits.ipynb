{
 "cells": [
  {
   "cell_type": "code",
   "execution_count": 2,
   "metadata": {},
   "outputs": [],
   "source": [
    "%matplotlib inline\n",
    "import matplotlib.pyplot as plt\n",
    "plt.rcParams['figure.figsize'] = [12, 8]\n",
    "import numpy as np\n",
    "\n",
    "import pandoramoon as pandora\n",
    "from pandoramoon.helpers import ld_convert, ld_invert\n",
    "\n",
    "import ultranest\n",
    "import ultranest.stepsampler\n",
    "from ultranest import ReactiveNestedSampler\n",
    "from ultranest.plot import cornerplot\n",
    "\n",
    "import pickle\n",
    "import math\n",
    "import random\n",
    "import os\n",
    "\n",
    "from wotan import flatten, t14\n",
    "from statsmodels.stats import stattools"
   ]
  },
  {
   "cell_type": "markdown",
   "id": "3b5c14b6",
   "metadata": {},
   "source": [
    "Get parameters of stable architectures (no resonance)"
   ]
  },
  {
   "cell_type": "code",
   "execution_count": 63,
   "metadata": {},
   "outputs": [
    {
     "data": {
      "text/plain": [
       "{'Planet': {'m': 1.3982713717525024e+25,\n",
       "  'Rp': 8416856.879999999,\n",
       "  'Rstar': 493947000.0,\n",
       "  'RpRstar': 0.01704,\n",
       "  'rhostar': 2914.794655619886,\n",
       "  'impact': 0.039264752723498275,\n",
       "  'q1': 0.40411449000000005,\n",
       "  'q2': 0.2892873997168476,\n",
       "  'a': 131171197452.33594,\n",
       "  'Pp': 348.6182434374297,\n",
       "  'rhoplan': 5598.259543975825,\n",
       "  'aRp': None,\n",
       "  'e': None,\n",
       "  'inc': None,\n",
       "  'pomega': None,\n",
       "  'f': None,\n",
       "  'P': 30120616.232993927,\n",
       "  'RHill': 1926412748.3253655},\n",
       " 'I': {'m': 2.893946014840926e+21,\n",
       "  'r': 821490.6544712327,\n",
       "  'msmp': 0.00020696597765667207,\n",
       "  'rsrp': 0.09760064430027861,\n",
       "  'a': 72607741.12710458,\n",
       "  'aRp': 8.626467357385383,\n",
       "  'e': 0.0,\n",
       "  'inc': 0.16549994302214466,\n",
       "  'pomega': 4.650022129525847,\n",
       "  'f': 2.7761888876007013,\n",
       "  'P': 127236.21015647978,\n",
       "  'RHill': 2977891.206631242,\n",
       "  'spacing': 'linear',\n",
       "  'period_ratio': nan},\n",
       " 'II': {'m': 9.955174291052775e+21,\n",
       "  'r': 808246.5417335822,\n",
       "  'msmp': 0.0007119629631389512,\n",
       "  'rsrp': 0.09602712191223362,\n",
       "  'a': 136521145.10965937,\n",
       "  'aRp': 16.219967507592855,\n",
       "  'e': 0.0,\n",
       "  'inc': 0.16549994302214466,\n",
       "  'pomega': 5.551749393832548,\n",
       "  'f': 4.087620804400761,\n",
       "  'P': 327964.3297869685,\n",
       "  'RHill': 8452372.689775405,\n",
       "  'spacing': 'linear',\n",
       "  'period_ratio': 2.577602157307467},\n",
       " 'III': {'m': 7.061228276211857e+21,\n",
       "  'r': 983744.6148263518,\n",
       "  'msmp': 0.0005049969854822796,\n",
       "  'rsrp': 0.11687790690179252,\n",
       "  'a': 341597013.5149029,\n",
       "  'aRp': 40.58486658203732,\n",
       "  'e': 0.0,\n",
       "  'inc': 0.16549994302214466,\n",
       "  'pomega': 0.46374545021487495,\n",
       "  'f': 2.4412616180010693,\n",
       "  'P': 1298203.3939601232,\n",
       "  'RHill': 18861225.558733832,\n",
       "  'spacing': 'linear',\n",
       "  'period_ratio': 3.9583676517607276},\n",
       " 'IV': {'m': 3.009703855434564e+21,\n",
       "  'r': 880035.0412194,\n",
       "  'msmp': 0.00021524461676293902,\n",
       "  'rsrp': 0.10455625582876729,\n",
       "  'a': 479988857.06372046,\n",
       "  'aRp': 57.02709026742065,\n",
       "  'e': 0.0,\n",
       "  'inc': 0.16549994302214466,\n",
       "  'pomega': 1.8763467674005647,\n",
       "  'f': 4.286189316958892,\n",
       "  'P': 2162625.2623205497,\n",
       "  'RHill': 19945036.55659165,\n",
       "  'spacing': 'linear',\n",
       "  'period_ratio': 1.6658601205189723},\n",
       " 'V': {'m': 6.482439073243673e+21,\n",
       "  'r': 886448.9052261824,\n",
       "  'msmp': 0.00046360378995094535,\n",
       "  'rsrp': 0.10531828185561147,\n",
       "  'a': 825552987.2299027,\n",
       "  'aRp': 98.0832867898192,\n",
       "  'e': 0.0,\n",
       "  'inc': 0.16549994302214466,\n",
       "  'pomega': 5.080463367191415,\n",
       "  'f': 5.48325582462737,\n",
       "  'P': 4877508.741436259,\n",
       "  'RHill': 44301679.839455895,\n",
       "  'spacing': 'linear',\n",
       "  'period_ratio': 2.255364730273507}}"
      ]
     },
     "execution_count": 63,
     "metadata": {},
     "output_type": "execute_result"
    }
   ],
   "source": [
    "sim_no = 236\n",
    "# f = open('/home/garvit/Downloads/Exomoon_project/sim_data/july13_res/TTVsim{}_system_dictionary.pkl'.format(sim_no), 'rb')\n",
    "f = open('/home/garvit/Downloads/Exomoon_project/sim_data/may10_nores/TTVsim{}_system_dictionary.pkl'.format(sim_no), 'rb')\n",
    "\n",
    "\n",
    "sim_params= pickle.load(f)\n",
    "sim_params\n"
   ]
  },
  {
   "cell_type": "markdown",
   "metadata": {},
   "source": [
    "Feed parameters into a pandora model"
   ]
  },
  {
   "cell_type": "code",
   "execution_count": 64,
   "id": "b0cabf7b",
   "metadata": {},
   "outputs": [],
   "source": [
    "params = pandora.model_params()\n",
    "params.R_star = sim_params['Planet']['Rstar'] # [m]\t \n",
    "params.u1 = 2*sim_params['Planet']['q2']*np.sqrt(sim_params['Planet']['q1'])\n",
    "params.u2 = -2*(sim_params['Planet']['q2'] - 0.5) * np.sqrt(sim_params['Planet']['q1'])"
   ]
  },
  {
   "cell_type": "markdown",
   "id": "4fc7ae97",
   "metadata": {},
   "source": [
    "Planet parameters:"
   ]
  },
  {
   "cell_type": "code",
   "execution_count": 65,
   "id": "cf2e5270",
   "metadata": {},
   "outputs": [],
   "source": [
    "params.per_bary = sim_params['Planet']['Pp']  # [days]\n",
    "params.a_bary = sim_params['Planet']['a']/params.R_star  # [R_star]\n",
    "params.r_planet = sim_params['Planet']['RpRstar'] # [R_star]\n",
    "params.b_bary = sim_params['Planet']['impact']   # [0..1]\n",
    "params.t0_bary = 10  # [days]\n",
    "params.t0_bary_offset = 0.0 #0.01  # [days]\n",
    "params.M_planet =  sim_params['Planet']['m'] # [kg]\n",
    "\n",
    "w_bary = sim_params['Planet']['pomega']\n",
    "params.w_bary = math.degrees(w_bary) if w_bary!=None else random.random()*2*np.pi  # [deg]\n",
    "ecc_bary= sim_params['Planet']['e']\n",
    "params.ecc_bary = ecc_bary if ecc_bary!=None else 0  # [0..1]  \n",
    "\n"
   ]
  },
  {
   "cell_type": "markdown",
   "metadata": {},
   "source": [
    "Other Parameters. Using short cadence to obtain TTVs"
   ]
  },
  {
   "cell_type": "code",
   "execution_count": 66,
   "metadata": {},
   "outputs": [],
   "source": [
    "num_moons = len(sim_params.keys()) - 1\n",
    "\n",
    "params.epochs = 30  # [int]\n",
    "params.epoch_duration = 6  # [days]\n",
    "params.cadences_per_day = 30000 # [int]\n",
    "params.epoch_distance = params.per_bary   # [days]\n",
    "params.supersampling_factor = 1  # [int]\n",
    "params.occult_small_threshold = 0.1  # [0..1]\n",
    "params.hill_sphere_threshold = 1.2\n",
    "\n",
    "N_epoch = params.epoch_duration*params.cadences_per_day\n",
    "N = params.epochs* N_epoch\n",
    "TTs= np.ndarray((num_moons+1, params.epochs)) #array for Transit Times\n",
    "TTVs= np.ndarray((num_moons, params.epochs)) #Transit Timing Variations\n",
    "flux_moons= np.ndarray((num_moons, N))\n",
    "\n"
   ]
  },
  {
   "cell_type": "markdown",
   "metadata": {},
   "source": [
    "Plug moon parameters and obtain light curve(s) of individual moon(s). From them obtain transit-times of the planet for each moon. "
   ]
  },
  {
   "cell_type": "code",
   "execution_count": 84,
   "metadata": {},
   "outputs": [],
   "source": [
    "for i in range(num_moons):\n",
    "    moon_key = list(sim_params.keys())[i+1]\n",
    "    params.r_moon = sim_params[moon_key]['r']/params.R_star  # [R_star]\n",
    "    params.per_moon = sim_params[moon_key]['P']/(24*3600) # [days]\n",
    "    params.a_moon = sim_params[moon_key]['a']/params.R_star  # [R_star]\n",
    "    params.tau_moon = (2*np.pi-sim_params[moon_key]['f'])/(2*np.pi)  # [0..1]\n",
    "    params.Omega_moon = random.random() * 2*np.pi  # [0..180]\n",
    "    params.i_moon = math.degrees(sim_params[moon_key]['inc'])%360  # [0..180]\n",
    "    params.e_moon = sim_params[moon_key]['e']  # [0..1]\n",
    "    params.w_moon = math.degrees(sim_params[moon_key]['pomega'])  # [deg]\n",
    "    params.M_moon = sim_params[moon_key]['m']  #kg\n",
    "\n",
    "    # if(i==3):\n",
    "    #     G = 6.67408e-11\n",
    "    #     day = 60 * 60 * 24\n",
    "\n",
    "    #     a_moon = (G * (params.M_planet + params.M_moon) * ((params.per_moon * day)/(2 * np.pi))**2)**(1 / 3)\n",
    "    #     a_moon/= params.R_star\n",
    "\n",
    "    #     delta_t = params.per_bary/(2*np.pi) * (a_moon/params.a_bary) * (params.M_moon/params.M_planet)\n",
    "\n",
    "    #     print(delta_t)\n",
    "\n",
    "    time = pandora.time(params).grid()\n",
    "    model = pandora.moon_model(params)\n",
    "\n",
    "    flux_total, flux_planet, flux_moons[i] = model.light_curve(time)\n",
    "\n",
    "    for j in range(params.epochs):\n",
    "        TTs[i+1][j] = time[j* N_epoch + np.nanargmin(flux_planet[j*N_epoch:(j+1)*N_epoch])]\n"
   ]
  },
  {
   "cell_type": "markdown",
   "metadata": {},
   "source": [
    "Obtain transit-times for planet with no moon"
   ]
  },
  {
   "cell_type": "code",
   "execution_count": 85,
   "metadata": {},
   "outputs": [],
   "source": [
    "params.M_moon = 1e-8\n",
    "model = pandora.moon_model(params)\n",
    "flux_total, flux_planet_only, flux_moon = model.light_curve(time)\n",
    "\n",
    "for j in range(params.epochs):\n",
    "     TTs[0][j] = time[j* N_epoch + np.nanargmin(flux_planet_only[j*N_epoch:(j+1)*N_epoch])]\n",
    "\n",
    "np.set_printoptions(precision=15)\n",
    "#print(TTs)\n"
   ]
  },
  {
   "cell_type": "markdown",
   "metadata": {},
   "source": [
    "Fit straight line to the transit-times and obtain TTVs"
   ]
  },
  {
   "cell_type": "code",
   "execution_count": 86,
   "metadata": {},
   "outputs": [],
   "source": [
    "x = [i for i in range(params.epochs)]\n",
    "for i in range(num_moons):\n",
    "    line_fit = np.polyfit(x, y=TTs[i+1], deg=1)\n",
    "    TTVs[i] = TTs[i+1] - np.polyval(line_fit, x)\n",
    "\n",
    "    \n",
    "    # if(i==1):\n",
    "    #     plt.scatter(x, TTs[i+1], color='red', label='transit times')\n",
    "    #     plt.plot( np.polyval(line_fit, x), label='best fit line')\n",
    "    #     plt.xlabel('epochs')\n",
    "    #     plt.legend()\n",
    "    \n",
    "\n",
    "TTV_planet_allmoons = np.sum(TTVs, axis=0)\n",
    "#print(TTs)\n",
    "#print(TTV_planet_allmoons)\n",
    "TT_planet_allmoons = np.add(TTV_planet_allmoons, TTs[0])\n",
    "#print(TT_planet_allmoons)\n"
   ]
  },
  {
   "cell_type": "markdown",
   "metadata": {},
   "source": [
    "Obtain long cadence light-curves for injection"
   ]
  },
  {
   "cell_type": "code",
   "execution_count": 87,
   "metadata": {},
   "outputs": [],
   "source": [
    "# params.cadences_per_day = 48 #kepler cadence # [int]\n",
    "# N_epoch = params.epoch_duration*params.cadences_per_day\n",
    "# N = params.epochs* N_epoch\n",
    "\n",
    "# flux_moons= np.ndarray((num_moons, N))\n",
    "\n",
    "# for i in range(num_moons):\n",
    "#     moon_key = list(sim_params.keys())[i+1]\n",
    "#     params.r_moon = sim_params[moon_key]['r']/params.R_star  # [R_star]\n",
    "#     params.per_moon = sim_params[moon_key]['P']/(24*3600) # [days]\n",
    "#     params.tau_moon = (2*np.pi-sim_params[moon_key]['f'])/(2*np.pi)  # [0..1]\n",
    "#     params.Omega_moon = random.random() * 2*np.pi  # [0..180]\n",
    "#     params.i_moon = math.degrees(sim_params[moon_key]['inc'])%360  # [0..180]\n",
    "#     params.e_moon = sim_params[moon_key]['e']  # [0..1]\n",
    "#     params.w_moon = math.degrees(sim_params[moon_key]['pomega'])  # [deg]\n",
    "#     params.M_moon = sim_params[moon_key]['m']   # [0..1]\n",
    "\n",
    "#     time = pandora.time(params).grid()\n",
    "#     model = pandora.moon_model(params)\n",
    "\n",
    "#     flux_total, flux_planet, flux_moons[i] = model.light_curve(time)\n",
    "\n",
    "\n",
    "# params.M_moon = 1e-8\n",
    "# model = pandora.moon_model(params)\n",
    "# flux_total, flux_planet_only, flux_moon = model.light_curve(time)"
   ]
  },
  {
   "cell_type": "markdown",
   "metadata": {},
   "source": [
    "TTV-adjust the planet-only light curve to obtain all-moon light curve for the planet."
   ]
  },
  {
   "cell_type": "code",
   "execution_count": 88,
   "metadata": {},
   "outputs": [],
   "source": [
    "\n",
    "def shift(arr, delta=0, fill_value=1.0):\n",
    "    result = np.empty_like(arr)\n",
    "    if delta > 0:\n",
    "        result[:delta] = fill_value\n",
    "        result[delta:] = arr[:-delta]\n",
    "    elif delta < 0:\n",
    "        result[delta:] = fill_value\n",
    "        result[:delta] = arr[-delta:]\n",
    "    else:\n",
    "        result[:] = arr\n",
    "    \n",
    "    return result\n",
    "\n",
    "flux_planet_allmoons = np.empty_like(flux_planet_only)\n",
    "for i in range(params.epochs):\n",
    "    transit = flux_planet_only[i*N_epoch:(i+1)*N_epoch]\n",
    "    delta = int(np.round(TTV_planet_allmoons[i] * params.cadences_per_day))\n",
    "    #print(delta)\n",
    "    flux_planet_allmoons[i*N_epoch:(i+1)*N_epoch] = shift(transit, delta)\n"
   ]
  },
  {
   "cell_type": "markdown",
   "metadata": {},
   "source": [
    "Get total flux of planet + moons"
   ]
  },
  {
   "cell_type": "code",
   "execution_count": 89,
   "metadata": {},
   "outputs": [],
   "source": [
    "flux_total = np.copy(flux_planet_allmoons) \n",
    "for i in range(num_moons): flux_total+= flux_moons[i]\n",
    "flux_total-=(num_moons)\n"
   ]
  },
  {
   "cell_type": "markdown",
   "id": "7b5ab900",
   "metadata": {},
   "source": [
    "Plot light curves of the planet and all moons:"
   ]
  },
  {
   "cell_type": "code",
   "execution_count": 90,
   "id": "19f8259b",
   "metadata": {},
   "outputs": [
    {
     "data": {
      "image/png": "[encoded data removed]",
      "text/plain": [
       "<Figure size 864x576 with 1 Axes>"
      ]
     },
     "metadata": {
      "needs_background": "light"
     },
     "output_type": "display_data"
    }
   ],
   "source": [
    "moon_labels=['I', 'II', 'III', 'IV', 'V']\n",
    "colors=['red', 'green', 'brown','purple','cyan']\n",
    "\n",
    "#plt.plot(time, flux_planet_allmoons, color=\"blue\", label='planet')\n",
    "\n",
    "# for i in range(num_moons):\n",
    "#     plt.plot(time, flux_moons[i], color=colors[i], label= 'moon {}'.format(moon_labels[i]))\n",
    "plt.plot(time, flux_moons[4], color=colors[i], label= 'moon {}'.format(moon_labels[i]))\n",
    "    \n",
    "#plt.plot(time, flux_total, color=\"black\", label='total flux')\n",
    "\n",
    "#plt.ylim(.99999, 1.000001)\n",
    "#plt.xlim(min(time)+0*params.epoch_distance, min(time)+0*params.epoch_distance+ params.epoch_duration)\n",
    "plt.xlabel(\"Time (days)\")\n",
    "plt.ylabel(\"Relative flux\")\n",
    "#plt.legend()\n",
    "plt.show()"
   ]
  },
  {
   "cell_type": "markdown",
   "id": "39367082",
   "metadata": {},
   "source": [
    "Let us have a look at the transits more closely:"
   ]
  },
  {
   "cell_type": "code",
   "execution_count": 59,
   "id": "f5a01f99",
   "metadata": {},
   "outputs": [
    {
     "data": {
      "image/png": "[encoded data removed]",
      "text/plain": [
       "<Figure size 864x576 with 3 Axes>"
      ]
     },
     "metadata": {
      "needs_background": "light"
     },
     "output_type": "display_data"
    }
   ],
   "source": [
    "moon_labels=['I', 'II', 'III', 'IV', 'V']\n",
    "colors=['red', 'green', 'brown','purple','cyan']\n",
    "\n",
    "fig, (ax1, ax2, ax3) = plt.subplots(1, 3)\n",
    "ax1.plot(time, flux_planet, color=\"blue\", label='planet')\n",
    "for i in range(num_moons):\n",
    "    ax1.plot(time, flux_moons[i], color=colors[i], label= 'moon {}'.format(moon_labels[i]))\n",
    "ax1.plot(time, flux_total, color=\"black\", label='total flux')\n",
    "ax1.set_xlim(min(time), min(time)+params.epoch_duration)\n",
    "ax1.set_ylim(.9996, 1.0001)\n",
    "\n",
    "ax2.plot(time, flux_planet, color=\"blue\", label='planet')\n",
    "for i in range(num_moons):\n",
    "    ax2.plot(time, flux_moons[i], color=colors[i], label= 'moon {}'.format(moon_labels[i]))\n",
    "ax2.plot(time, flux_total, color=\"black\", label='total flux')\n",
    "ax2.set_xlim(min(time)+params.epoch_distance, min(time)+params.epoch_duration+params.epoch_distance)\n",
    "ax2.set_ylim(.9996, 1.0001)\n",
    "\n",
    "ax3.plot(time, flux_planet, color=\"blue\", label='planet')\n",
    "for i in range(num_moons):\n",
    "    ax3.plot(time, flux_moons[i], color=colors[i], label= 'moon {}'.format(moon_labels[i]))\n",
    "ax3.plot(time, flux_total, color=\"black\", label='total flux')\n",
    "ax3.set_xlim(min(time)+2*params.epoch_distance, min(time)+params.epoch_duration+2*params.epoch_distance)\n",
    "ax3.set_ylim(.9996, 1.0001)\n",
    "\n",
    "plt.legend()\n",
    "plt.show()"
   ]
  },
  {
   "cell_type": "markdown",
   "metadata": {},
   "source": [
    "Define function for injection. It will first rebin the model light curve to kepler's cadence"
   ]
  },
  {
   "cell_type": "code",
   "execution_count": 60,
   "metadata": {},
   "outputs": [],
   "source": [
    "def find_nearest(array, value):\n",
    "    if(math.isnan(value)): return float('nan')\n",
    "    \n",
    "    array = np.asarray(array)\n",
    "    idx = np.nanargmin(np.abs(array - value))\n",
    "    return idx\n",
    "\n",
    "\n",
    "def inject(data, timestamps, model_lc, time):\n",
    "\n",
    "    time1= time + timestamps[0] - time[0]\n",
    "    rebinned_flux = []\n",
    "    rebinned_time = []\n",
    "   \n",
    "    i =0\n",
    "    for j in range(timestamps.shape[0]-1):\n",
    "        print(j)\n",
    "\n",
    "        if(math.isnan(timestamps[j+1])):\n",
    "            nexti = find_nearest(time1, timestamps[0]+(j+1)*(1/48))\n",
    "\n",
    "        else:\n",
    "            nexti = find_nearest(time1, timestamps[j+1])\n",
    "        \n",
    "        if(np.abs(time1[i] - timestamps[j]) <0.01 and np.abs(time1[nexti] - timestamps[j+1]) <0.01):\n",
    "            if(math.isnan(timestamps[j+1])):\n",
    "                rebinned_flux.append(float('nan'))\n",
    "                rebinned_time.append(float('nan'))\n",
    "\n",
    "            else:\n",
    "                rebinned_flux.append(np.mean(model_lc[ i: nexti]))\n",
    "                rebinned_time.append(timestamps[j])\n",
    "            \n",
    "\n",
    "        i = nexti        \n",
    "\n",
    "    rebinned_flux = np.array(rebinned_flux)\n",
    "    rebinned_time = np.array(rebinned_time)\n",
    "\n",
    "    injected_lc = np.copy(data)\n",
    "\n",
    "    for i in range(rebinned_time.shape[0]):\n",
    "        injected_lc[np.where(timestamps == rebinned_time[i])] *= rebinned_flux[i]\n",
    "    \n",
    "    return injected_lc\n",
    "\n",
    "\n",
    "def mask(array ):\n",
    "\n",
    "    kepler_cadence = 48 #per day\n",
    "    mask_size = 2*int(transit_duration* kepler_cadence)\n",
    "\n",
    "    offset = timestamps[0] - time[0]\n",
    "    \n",
    "    indices = []\n",
    "    for i in range(params.epochs): \n",
    "        indices.append(find_nearest(timestamps, TT_planet_allmoons[i]+ offset))\n",
    "\n",
    "    slices = []\n",
    "    \n",
    "    if(indices[0] - int(mask_size/2) >0): slices.append(array[: indices[0] - int(mask_size/2)])\n",
    "\n",
    "    for i in range(params.epochs-1):\n",
    "        slices.append(array[indices[i] + int(mask_size/2) : indices[i+1] - int(mask_size/2) ])\n",
    "\n",
    "    slices.append(array[indices[-1] + int(mask_size/2) : ])\n",
    "\n",
    "    masked = np.concatenate(slices)\n",
    "\n",
    "    return masked\n",
    "\n"
   ]
  },
  {
   "cell_type": "code",
   "execution_count": 12,
   "metadata": {},
   "outputs": [
    {
     "data": {
      "text/plain": [
       "2.0312024704256393"
      ]
     },
     "execution_count": 12,
     "metadata": {},
     "output_type": "execute_result"
    }
   ],
   "source": [
    "G = 6.67408e-11\n",
    "day = 60 * 60 * 24\n",
    "\n",
    "M_star = ((4 * np.pi ** 2 / G) * ((params.a_bary * params.R_star) ** 3)) / (params.per_bary * day) ** 2\n",
    "\n",
    "R_sun = 696340000\n",
    "M_sun = 1.989e+30\n",
    "\n",
    "transit_duration = t14(R_s = params.R_star/R_sun, M_s = M_star/M_sun, P = params.per_bary, small_planet=True)\n",
    "detrending_window = 3 * transit_duration\n",
    "detrending_window"
   ]
  },
  {
   "cell_type": "markdown",
   "metadata": {},
   "source": [
    "Get no-planet kepler light curve with low magnitude and good Durbin-Watson statistic "
   ]
  },
  {
   "cell_type": "code",
   "execution_count": 13,
   "metadata": {},
   "outputs": [
    {
     "name": "stdout",
     "output_type": "stream",
     "text": [
      "KIC10983462_lightcurve.txt\n"
     ]
    }
   ],
   "source": [
    "#f = open('/home/garvit/Downloads/Exomoon_project/good_kepler_data.txt','w')\n",
    "\n",
    "#os.system(\"ls /home/garvit/Downloads/Exomoon_project/no_planet_lightcurves/ > temp\")\n",
    "#lightcurves_files = open('temp', 'r').read().split('\\n')\n",
    "lightcurves_files = open('/home/garvit/Downloads/Exomoon_project/good_kepler_data.txt', 'r').read().split('\\n')\n",
    "\n",
    "i=0\n",
    "while True:\n",
    "    if(i== len(lightcurves_files)-1): break\n",
    "\n",
    "    data = open(\"/home/garvit/Downloads/Exomoon_project/no_planet_lightcurves/{}\".format(lightcurves_files[i]), 'r').readlines()\n",
    "    print(lightcurves_files[i])\n",
    "    # if(float(data[1].split('\\t')[4]) > 13.0 ): \n",
    "    #     i+=1\n",
    "    #     continue\n",
    "\n",
    "    N = len(data) -1\n",
    "    flux = np.ndarray((N))\n",
    "    timestamps = np.ndarray((N))\n",
    "\n",
    "    for j in range(N):\n",
    "        timestamps[j] = float(data[j+1].split('\\t')[0])\n",
    "        flux[j] = float(data[j+1].split('\\t')[1])\n",
    "\n",
    "\n",
    "    #injected_flux = inject(flux, timestamps, flux_total, time)\n",
    "    \n",
    "    detrended_flux, trend = flatten(timestamps, flux, method = 'biweight', window_length=detrending_window, return_trend=True)\n",
    "\n",
    "#     residual = injected_flux - trend\n",
    "#     masked_residual = mask(residual)\n",
    "\n",
    "#     print(stattools.durbin_watson(masked_residual[np.logical_not(np.isnan(masked_residual))]))\n",
    "#     # if(abs(stattools.durbin_watson(masked_residual[np.logical_not(np.isnan(masked_residual))]) - 2.0) < 0.5 ):\n",
    "#     #     f.write(lightcurves_files[i]+'\\n')\n",
    "\n",
    "#     i+=1\n",
    "\n",
    "    break    \n",
    "\n",
    "#f.close()"
   ]
  },
  {
   "cell_type": "code",
   "execution_count": 15,
   "metadata": {},
   "outputs": [
    {
     "data": {
      "text/plain": [
       "[<matplotlib.lines.Line2D at 0x7f4c3e4eef70>]"
      ]
     },
     "execution_count": 15,
     "metadata": {},
     "output_type": "execute_result"
    },
    {
     "data": {
      "image/png": "[encoded data removed]",
      "text/plain": [
       "<Figure size 864x576 with 1 Axes>"
      ]
     },
     "metadata": {
      "needs_background": "light"
     },
     "output_type": "display_data"
    }
   ],
   "source": [
    "plt.plot(timestamps, trend)"
   ]
  },
  {
   "cell_type": "code",
   "execution_count": 40,
   "metadata": {},
   "outputs": [
    {
     "name": "stderr",
     "output_type": "stream",
     "text": [
      "No artists with labels found to put in legend.  Note that artists whose label start with an underscore are ignored when legend() is called with no argument.\n"
     ]
    },
    {
     "data": {
      "text/plain": [
       "<matplotlib.legend.Legend at 0x7f6cfc6a1130>"
      ]
     },
     "execution_count": 40,
     "metadata": {},
     "output_type": "execute_result"
    },
    {
     "data": {
      "image/png": "[encoded data removed]",
      "text/plain": [
       "<Figure size 864x576 with 1 Axes>"
      ]
     },
     "metadata": {
      "needs_background": "light"
     },
     "output_type": "display_data"
    }
   ],
   "source": [
    "#plt.scatter(timestamps, injected_flux, s=0.5)\n",
    "#plt.plot(timestamps, trend, color='orange', label='trend line')\n",
    "\n",
    "plt.scatter(timestamps, detrended_flux, s=0.5) \n",
    "plt.xlabel('Time (BKJD)')\n",
    "plt.ylabel('Injected flux with trend line')\n",
    "#plt.ylabel('detrended flux without injection')\n",
    "#plt.xlim(115,128)\n",
    "plt.legend()\n",
    "\n",
    "#detrended_flux, trend = flatten(timestamps, injected_flux, method = 'biweight', window_length=detrending_window, return_trend=True)\n",
    "#plt.scatter([i for i in range(len(residual))], residual, s=1)"
   ]
  },
  {
   "cell_type": "code",
   "execution_count": 8,
   "metadata": {},
   "outputs": [],
   "source": [
    "\n",
    "data = open(\"/home/garvit/Downloads/Exomoon_project/no_planet_lightcurves3/kic757137_kepler_lightcurve.tsv\").readlines()\n",
    "\n",
    "N = len(data) -1\n",
    "flux = np.ndarray((N))\n",
    "timestamps = np.ndarray((N))\n",
    "\n",
    "for j in range(N):\n",
    "    timestamps[j] = float(data[j+1].split('\\t')[0])\n",
    "    flux[j] = float(data[j+1].split('\\t')[1])\n",
    "\n"
   ]
  },
  {
   "cell_type": "code",
   "execution_count": 44,
   "metadata": {},
   "outputs": [],
   "source": [
    "sim_no = 680 \n",
    "res_nores = 'res'\n",
    "num_moons = 5\n",
    "\n",
    "f = open(\"/media/Datas/Exomoon_project/model_LCs/{}_{}_{}.txt\".format(sim_no, res_nores, 'july13'), 'r')\n",
    "model_data = f.readlines()\n",
    "f.close()\n",
    "\n",
    "flux_planet_allmoons = np.ndarray((len(model_data) - 1))\n",
    "time = np.ndarray((len(model_data)-1))\n",
    "flux_moons = np.ndarray((num_moons, len(model_data)-1))\n",
    "\n",
    "for j in range(len(model_data)-1):\n",
    "    time[j] = float(model_data[j+1].split('\\t')[0])\n",
    "    flux_planet_allmoons[j] = float(model_data[j+1].split('\\t')[1])\n",
    "    for i in range(num_moons):\n",
    "        flux_moons[i][j] = float(model_data[j+1].split('\\t')[2+i])"
   ]
  },
  {
   "cell_type": "code",
   "execution_count": 52,
   "metadata": {},
   "outputs": [
    {
     "name": "stdout",
     "output_type": "stream",
     "text": [
      "4172\n"
     ]
    },
    {
     "data": {
      "text/plain": [
       "<matplotlib.collections.PathCollection at 0x7f6c1e02af40>"
      ]
     },
     "execution_count": 52,
     "metadata": {},
     "output_type": "execute_result"
    },
    {
     "data": {
      "image/png": "[encoded data removed]",
      "text/plain": [
       "<Figure size 864x576 with 2 Axes>"
      ]
     },
     "metadata": {
      "needs_background": "light"
     },
     "output_type": "display_data"
    }
   ],
   "source": [
    "print(N)\n",
    "\n",
    "ax1 = plt.subplot(2,1,1)\n",
    "plt.scatter(timestamps, flux, s=0.2)\n",
    "\n",
    "plt.subplot(2,1,2, sharex = ax1)\n",
    "plt.scatter(time-time[0]+timestamps[0], flux_planet_allmoons, s=0.2)\n",
    "\n",
    "#plt.xlim(275,280)\n"
   ]
  },
  {
   "cell_type": "code",
   "execution_count": 10,
   "metadata": {},
   "outputs": [
    {
     "data": {
      "text/plain": [
       "<matplotlib.collections.PathCollection at 0x7fe35cca2e50>"
      ]
     },
     "execution_count": 10,
     "metadata": {},
     "output_type": "execute_result"
    },
    {
     "data": {
      "image/png": "[encoded data removed]",
      "text/plain": [
       "<Figure size 864x576 with 1 Axes>"
      ]
     },
     "metadata": {
      "needs_background": "light"
     },
     "output_type": "display_data"
    }
   ],
   "source": [
    "plt.scatter(timestamps, flux, s=0.5)"
   ]
  },
  {
   "cell_type": "code",
   "execution_count": null,
   "metadata": {},
   "outputs": [],
   "source": []
  }
 ],
 "metadata": {
  "kernelspec": {
   "display_name": "Python 3 (ipykernel)",
   "language": "python",
   "name": "python3"
  },
  "language_info": {
   "codemirror_mode": {
    "name": "ipython",
    "version": 3
   },
   "file_extension": ".py",
   "mimetype": "text/x-python",
   "name": "python",
   "nbconvert_exporter": "python",
   "pygments_lexer": "ipython3",
   "version": "3.9.7"
  },
  "vscode": {
   "interpreter": {
    "hash": "1763962dc217ba34218ddb5f5e777ad9dd6fbfb61c4673f48b29ade19debb167"
   }
  }
 },
 "nbformat": 4,
 "nbformat_minor": 2
}
